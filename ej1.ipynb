{
 "cells": [
  {
   "cell_type": "code",
   "execution_count": 85,
   "metadata": {},
   "outputs": [],
   "source": [
    "import pandas as pd \n",
    "import numpy as np\n",
    "import matplotlib.pyplot as plt\n",
    "%matplotlib inline"
   ]
  },
  {
   "cell_type": "code",
   "execution_count": 86,
   "metadata": {},
   "outputs": [],
   "source": [
    "dataset = pd.read_csv(\"dataset.csv\",sep=\",\",skiprows=32,usecols=[2,3]) "
   ]
  },
  {
   "cell_type": "markdown",
   "metadata": {},
   "source": [
    "<b>skiprows</b>: nos ayuda para saltar filas <br/>\n",
    "<b>usecols</b>: nos ayuda para seleccionar las columnas que usaremos<br/>\n"
   ]
  },
  {
   "cell_type": "code",
   "execution_count": 87,
   "metadata": {},
   "outputs": [
    {
     "data": {
      "text/html": [
       "<div>\n",
       "<style scoped>\n",
       "    .dataframe tbody tr th:only-of-type {\n",
       "        vertical-align: middle;\n",
       "    }\n",
       "\n",
       "    .dataframe tbody tr th {\n",
       "        vertical-align: top;\n",
       "    }\n",
       "\n",
       "    .dataframe thead th {\n",
       "        text-align: right;\n",
       "    }\n",
       "</style>\n",
       "<table border=\"1\" class=\"dataframe\">\n",
       "  <thead>\n",
       "    <tr style=\"text-align: right;\">\n",
       "      <th></th>\n",
       "      <th>Age</th>\n",
       "      <th>Systolic blood pressure</th>\n",
       "    </tr>\n",
       "  </thead>\n",
       "  <tbody>\n",
       "    <tr>\n",
       "      <th>0</th>\n",
       "      <td>39</td>\n",
       "      <td>144</td>\n",
       "    </tr>\n",
       "    <tr>\n",
       "      <th>1</th>\n",
       "      <td>45</td>\n",
       "      <td>138</td>\n",
       "    </tr>\n",
       "    <tr>\n",
       "      <th>2</th>\n",
       "      <td>47</td>\n",
       "      <td>145</td>\n",
       "    </tr>\n",
       "    <tr>\n",
       "      <th>3</th>\n",
       "      <td>65</td>\n",
       "      <td>162</td>\n",
       "    </tr>\n",
       "    <tr>\n",
       "      <th>4</th>\n",
       "      <td>46</td>\n",
       "      <td>142</td>\n",
       "    </tr>\n",
       "    <tr>\n",
       "      <th>5</th>\n",
       "      <td>67</td>\n",
       "      <td>170</td>\n",
       "    </tr>\n",
       "    <tr>\n",
       "      <th>6</th>\n",
       "      <td>42</td>\n",
       "      <td>124</td>\n",
       "    </tr>\n",
       "    <tr>\n",
       "      <th>7</th>\n",
       "      <td>67</td>\n",
       "      <td>158</td>\n",
       "    </tr>\n",
       "    <tr>\n",
       "      <th>8</th>\n",
       "      <td>56</td>\n",
       "      <td>154</td>\n",
       "    </tr>\n",
       "    <tr>\n",
       "      <th>9</th>\n",
       "      <td>64</td>\n",
       "      <td>162</td>\n",
       "    </tr>\n",
       "    <tr>\n",
       "      <th>10</th>\n",
       "      <td>56</td>\n",
       "      <td>150</td>\n",
       "    </tr>\n",
       "    <tr>\n",
       "      <th>11</th>\n",
       "      <td>59</td>\n",
       "      <td>140</td>\n",
       "    </tr>\n",
       "    <tr>\n",
       "      <th>12</th>\n",
       "      <td>34</td>\n",
       "      <td>110</td>\n",
       "    </tr>\n",
       "    <tr>\n",
       "      <th>13</th>\n",
       "      <td>42</td>\n",
       "      <td>128</td>\n",
       "    </tr>\n",
       "    <tr>\n",
       "      <th>14</th>\n",
       "      <td>48</td>\n",
       "      <td>130</td>\n",
       "    </tr>\n",
       "    <tr>\n",
       "      <th>15</th>\n",
       "      <td>45</td>\n",
       "      <td>135</td>\n",
       "    </tr>\n",
       "    <tr>\n",
       "      <th>16</th>\n",
       "      <td>17</td>\n",
       "      <td>114</td>\n",
       "    </tr>\n",
       "    <tr>\n",
       "      <th>17</th>\n",
       "      <td>20</td>\n",
       "      <td>116</td>\n",
       "    </tr>\n",
       "    <tr>\n",
       "      <th>18</th>\n",
       "      <td>19</td>\n",
       "      <td>124</td>\n",
       "    </tr>\n",
       "    <tr>\n",
       "      <th>19</th>\n",
       "      <td>36</td>\n",
       "      <td>136</td>\n",
       "    </tr>\n",
       "    <tr>\n",
       "      <th>20</th>\n",
       "      <td>50</td>\n",
       "      <td>142</td>\n",
       "    </tr>\n",
       "    <tr>\n",
       "      <th>21</th>\n",
       "      <td>39</td>\n",
       "      <td>120</td>\n",
       "    </tr>\n",
       "    <tr>\n",
       "      <th>22</th>\n",
       "      <td>21</td>\n",
       "      <td>120</td>\n",
       "    </tr>\n",
       "    <tr>\n",
       "      <th>23</th>\n",
       "      <td>44</td>\n",
       "      <td>160</td>\n",
       "    </tr>\n",
       "    <tr>\n",
       "      <th>24</th>\n",
       "      <td>53</td>\n",
       "      <td>158</td>\n",
       "    </tr>\n",
       "    <tr>\n",
       "      <th>25</th>\n",
       "      <td>63</td>\n",
       "      <td>144</td>\n",
       "    </tr>\n",
       "    <tr>\n",
       "      <th>26</th>\n",
       "      <td>29</td>\n",
       "      <td>130</td>\n",
       "    </tr>\n",
       "    <tr>\n",
       "      <th>27</th>\n",
       "      <td>25</td>\n",
       "      <td>125</td>\n",
       "    </tr>\n",
       "    <tr>\n",
       "      <th>28</th>\n",
       "      <td>69</td>\n",
       "      <td>175</td>\n",
       "    </tr>\n",
       "  </tbody>\n",
       "</table>\n",
       "</div>"
      ],
      "text/plain": [
       "    Age  Systolic blood pressure\n",
       "0    39                      144\n",
       "1    45                      138\n",
       "2    47                      145\n",
       "3    65                      162\n",
       "4    46                      142\n",
       "5    67                      170\n",
       "6    42                      124\n",
       "7    67                      158\n",
       "8    56                      154\n",
       "9    64                      162\n",
       "10   56                      150\n",
       "11   59                      140\n",
       "12   34                      110\n",
       "13   42                      128\n",
       "14   48                      130\n",
       "15   45                      135\n",
       "16   17                      114\n",
       "17   20                      116\n",
       "18   19                      124\n",
       "19   36                      136\n",
       "20   50                      142\n",
       "21   39                      120\n",
       "22   21                      120\n",
       "23   44                      160\n",
       "24   53                      158\n",
       "25   63                      144\n",
       "26   29                      130\n",
       "27   25                      125\n",
       "28   69                      175"
      ]
     },
     "execution_count": 87,
     "metadata": {},
     "output_type": "execute_result"
    }
   ],
   "source": [
    "dataset\n"
   ]
  },
  {
   "cell_type": "code",
   "execution_count": 88,
   "metadata": {},
   "outputs": [
    {
     "data": {
      "text/plain": [
       "<function matplotlib.pyplot.show(*args, **kw)>"
      ]
     },
     "execution_count": 88,
     "metadata": {},
     "output_type": "execute_result"
    },
    {
     "data": {
      "image/png": "[encoded data removed]",
      "text/plain": [
       "<Figure size 432x288 with 1 Axes>"
      ]
     },
     "metadata": {
      "needs_background": "light"
     },
     "output_type": "display_data"
    }
   ],
   "source": [
    "'''Se pone dentro del metodo scatter los nombres exactos de las columnas\n",
    "'''\n",
    "dataset.plot.scatter(x=\"Age\",y=\"Systolic blood pressure\") \n",
    "plt.xlabel(\"Edaad(años)\")\n",
    "plt.ylabel(\"Presion sistolica (mm de Mercurio)\")\n",
    "plt.show"
   ]
  },
  {
   "cell_type": "code",
   "execution_count": 89,
   "metadata": {},
   "outputs": [],
   "source": [
    "x = dataset['Age'].values\n",
    "y = dataset['Systolic blood pressure'].values"
   ]
  },
  {
   "cell_type": "code",
   "execution_count": 74,
   "metadata": {},
   "outputs": [],
   "source": [
    "from keras.models import Sequential\n",
    "from keras.layers.core import Dense\n",
    "from keras.optimizers import SGD"
   ]
  },
  {
   "cell_type": "markdown",
   "metadata": {},
   "source": [
    "Como cada dato de entrada y cada dato de salida tiene solo una dimension(edad como entrada y presion sanguinea como salida), entonces se le asigna una dimension de 1.\n",
    "\n",
    "Luego instanciamos el objeto Sequential() en la variable modelo. Esto es como crear una caja vacia en modelo, donde le iremos \"armando\".\n",
    "\n",
    "<b>Sequential</b> es una pila lineal de capas. -> https://keras.io/getting-started/sequential-model-guide/ <br/>\n",
    "<b>Dense</b> es una capa de dos dimensiones.\n"
   ]
  },
  {
   "cell_type": "code",
   "execution_count": 90,
   "metadata": {},
   "outputs": [],
   "source": [
    "np.random.seed(2) #para marcar una semilla en los datos randomicos\n",
    "input_dim = 1\n",
    "output_dim = 1\n",
    "modelo = Sequential()\n",
    "modelo.add(Dense(output_dim, input_dim=input_dim, activation='linear')) \n"
   ]
  },
  {
   "cell_type": "markdown",
   "metadata": {},
   "source": [
    "Definimos el metodo que usaremos para la optimizacion (la gradiente descendiente), con el learning rate de 0.0004 y una perdidad igual al MSE (Median Squared Error, error cuadratico medio).<br/>\n",
    "Hacemos uso de <b>compile</b> para configurar el modelo para el entrenamiento."
   ]
  },
  {
   "cell_type": "code",
   "execution_count": 91,
   "metadata": {},
   "outputs": [
    {
     "name": "stdout",
     "output_type": "stream",
     "text": [
      "_________________________________________________________________\n",
      "Layer (type)                 Output Shape              Param #   \n",
      "=================================================================\n",
      "dense_8 (Dense)              (None, 1)                 2         \n",
      "=================================================================\n",
      "Total params: 2\n",
      "Trainable params: 2\n",
      "Non-trainable params: 0\n",
      "_________________________________________________________________\n"
     ]
    }
   ],
   "source": [
    "sgd = SGD(lr=0.0004) #instanciamos le objeto SGD  con learning rate de 0.0004\n",
    "modelo.compile(loss='mse',optimizer=sgd) #definimos mse y sgd en el modelo con compile\n",
    "#con modelo.summary imprimimos la informacion del modelo\n",
    "modelo.summary()\n"
   ]
  },
  {
   "cell_type": "markdown",
   "metadata": {},
   "source": [
    "Ahora procedemos para realizar el entrenamiento: realizar la regresion lineal.\n",
    "<ul>    \n",
    "    <li>Definimos 4000 iteraciones y todos los datos se usaran en cada iteración.</li>\n",
    "    <li>Definimos el <b>batch_size</b> con 29 (el total de registros que tenemos). <br/>Pero ¿Qué es el <b>batch_size</b>? El batch_size es el numero de datos del dataset que se usara. <i>Fuente:</i> https://stats.stackexchange.com/questions/153531/what-is-batch-size-in-neural-network</li>\n",
    "</ul>"
   ]
  },
  {
   "cell_type": "code",
   "execution_count": 92,
   "metadata": {},
   "outputs": [],
   "source": [
    "num_epochs = 40000\n",
    "batch_size = x.shape[0] #equivale a la longitud total \n",
    "history = modelo.fit(x,y,epochs=num_epochs,batch_size=batch_size,verbose=0)"
   ]
  },
  {
   "cell_type": "markdown",
   "metadata": {},
   "source": [
    "Visualizamos los datos de entrenamiento, y para esto imprimimos los coeficientes de \"w\" y \"b\".\n"
   ]
  },
  {
   "cell_type": "code",
   "execution_count": 97,
   "metadata": {},
   "outputs": [
    {
     "name": "stdout",
     "output_type": "stream",
     "text": [
      "<keras.layers.core.Dense object at 0xb316525c0>\n"
     ]
    }
   ],
   "source": [
    "capas = modelo.layers[0]\n",
    "print(capas)\n",
    "w,b = capas.get_weights()"
   ]
  },
  {
   "cell_type": "code",
   "execution_count": 94,
   "metadata": {},
   "outputs": [
    {
     "name": "stdout",
     "output_type": "stream",
     "text": [
      "Parametros: w=1.0, b=93.5\n"
     ]
    }
   ],
   "source": [
    "print(\"Parametros: w={:.1f}, b={:.1f}\".format(w[0][0],b[0]))"
   ]
  },
  {
   "cell_type": "code",
   "execution_count": 96,
   "metadata": {},
   "outputs": [
    {
     "data": {
      "image/png": "[encoded data removed]",
      "text/plain": [
       "<Figure size 432x288 with 2 Axes>"
      ]
     },
     "metadata": {
      "needs_background": "light"
     },
     "output_type": "display_data"
    },
    {
     "name": "stdout",
     "output_type": "stream",
     "text": [
      "La presion sanguinea sera de 185.3 mm-Hg\n"
     ]
    }
   ],
   "source": [
    "plt.subplot(1,2,1)\n",
    "plt.plot(history.history['loss'])\n",
    "plt.xlabel('epoch')\n",
    "plt.ylabel('ECM')\n",
    "plt.title('ECM vs epochs')\n",
    "\n",
    "y_regr = modelo.predict(x)\n",
    "plt.subplot(1,2,2)\n",
    "plt.scatter(x,y)\n",
    "plt.plot(x,y_regr,'r')\n",
    "plt.xlabel('x')\n",
    "plt.ylabel('y')\n",
    "plt.title('Datos originales y regresion lineal')\n",
    "plt.show()\n",
    "\n",
    "#Prediccion\n",
    "x_pred = np.array([90])\n",
    "y_pred = modelo.predict(x_pred)\n",
    "print(\"La presion sanguinea sera de {:.1f} mm-Hg\".format(y_pred[0][0],\" para una persona de {} años\".format(x_pred[0])))\n"
   ]
  },
  {
   "cell_type": "code",
   "execution_count": null,
   "metadata": {},
   "outputs": [],
   "source": []
  }
 ],
 "metadata": {
  "kernelspec": {
   "display_name": "Python 3",
   "language": "python",
   "name": "python3"
  },
  "language_info": {
   "codemirror_mode": {
    "name": "ipython",
    "version": 3
   },
   "file_extension": ".py",
   "mimetype": "text/x-python",
   "name": "python",
   "nbconvert_exporter": "python",
   "pygments_lexer": "ipython3",
   "version": "3.6.6"
  }
 },
 "nbformat": 4,
 "nbformat_minor": 2
}
